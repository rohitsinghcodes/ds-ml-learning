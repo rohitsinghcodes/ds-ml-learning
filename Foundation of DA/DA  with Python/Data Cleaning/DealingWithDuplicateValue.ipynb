{
 "cells": [
  {
   "cell_type": "markdown",
   "id": "4d80d069",
   "metadata": {},
   "source": [
    "Identifying Duplicate Data"
   ]
  },
  {
   "cell_type": "code",
   "execution_count": null,
   "id": "af0a76d9",
   "metadata": {},
   "outputs": [
    {
     "data": {
      "text/plain": [
       "40"
      ]
     },
     "execution_count": 2,
     "metadata": {},
     "output_type": "execute_result"
    }
   ],
   "source": [
    "import pandas as pd\n",
    "\n",
    "df = pd.read_csv(\"AB_NYC_2019.csv\")\n",
    "\n",
    "int(df.duplicated().sum())"
   ]
  },
  {
   "cell_type": "markdown",
   "id": "13510532",
   "metadata": {},
   "source": [
    "Handling Duplicate Values\n"
   ]
  },
  {
   "cell_type": "code",
   "execution_count": null,
   "id": "6376f3bf",
   "metadata": {},
   "outputs": [],
   "source": [
    "df[df.duplicated(keep=\"first\")]"
   ]
  },
  {
   "cell_type": "code",
   "execution_count": null,
   "id": "9b70f5cd",
   "metadata": {},
   "outputs": [],
   "source": [
    "df[df.duplicated(keep=\"last\")]"
   ]
  },
  {
   "cell_type": "code",
   "execution_count": null,
   "id": "394bcb1d",
   "metadata": {},
   "outputs": [],
   "source": [
    "df[df.duplicated(keep=False)]"
   ]
  },
  {
   "cell_type": "markdown",
   "id": "fb4ebd79",
   "metadata": {},
   "source": [
    "Removing Duplicates"
   ]
  },
  {
   "cell_type": "code",
   "execution_count": null,
   "id": "78c588a6",
   "metadata": {},
   "outputs": [],
   "source": [
    "df = df.drop_duplicates()"
   ]
  },
  {
   "cell_type": "code",
   "execution_count": null,
   "id": "94c61ec4",
   "metadata": {},
   "outputs": [
    {
     "data": {
      "text/plain": [
       "998"
      ]
     },
     "execution_count": 16,
     "metadata": {},
     "output_type": "execute_result"
    }
   ],
   "source": [
    "int(df.duplicated(\"name\").sum())"
   ]
  },
  {
   "cell_type": "code",
   "execution_count": null,
   "id": "67eb8c8c",
   "metadata": {},
   "outputs": [
    {
     "data": {
      "text/plain": [
       "998"
      ]
     },
     "execution_count": 17,
     "metadata": {},
     "output_type": "execute_result"
    }
   ],
   "source": [
    "df.drop_duplicates(\"name\", keep=\"first\")\n",
    "int(df.duplicated(\"name\").sum())\n"
   ]
  },
  {
   "cell_type": "markdown",
   "id": "958b0a1e",
   "metadata": {},
   "source": [
    "Finding Duplicates in Multiple Columns"
   ]
  },
  {
   "cell_type": "code",
   "execution_count": null,
   "id": "457c10f2",
   "metadata": {},
   "outputs": [
    {
     "data": {
      "text/plain": [
       "0"
      ]
     },
     "execution_count": 19,
     "metadata": {},
     "output_type": "execute_result"
    }
   ],
   "source": [
    "int(df.duplicated([\"id\", \"name\"]).sum())"
   ]
  }
 ],
 "metadata": {
  "kernelspec": {
   "display_name": "Python 3",
   "language": "python",
   "name": "python3"
  },
  "language_info": {
   "codemirror_mode": {
    "name": "ipython",
    "version": 3
   },
   "file_extension": ".py",
   "mimetype": "text/x-python",
   "name": "python",
   "nbconvert_exporter": "python",
   "pygments_lexer": "ipython3",
   "version": "3.14.0"
  }
 },
 "nbformat": 4,
 "nbformat_minor": 5
}
