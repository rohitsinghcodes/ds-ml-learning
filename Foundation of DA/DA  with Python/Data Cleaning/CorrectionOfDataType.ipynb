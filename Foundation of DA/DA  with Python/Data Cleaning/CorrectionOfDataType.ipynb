{
 "cells": [
  {
   "cell_type": "markdown",
   "id": "343ac38a",
   "metadata": {},
   "source": [
    "Identify Incorrect Data Types"
   ]
  },
  {
   "cell_type": "code",
   "execution_count": 15,
   "id": "2a065d55",
   "metadata": {},
   "outputs": [
    {
     "name": "stdout",
     "output_type": "stream",
     "text": [
      "Scholarship Name    object\n",
      "Deadline            object\n",
      "Amount              object\n",
      "Description         object\n",
      "Location            object\n",
      "Years               object\n",
      "Link                object\n",
      "dtype: object\n"
     ]
    }
   ],
   "source": [
    "import pandas as pd\n",
    "\n",
    "df = pd.read_csv(\"scholarship.csv\")\n",
    "print(df.dtypes)"
   ]
  },
  {
   "cell_type": "markdown",
   "id": "2d867a6c",
   "metadata": {},
   "source": [
    "Convert Data Types\n"
   ]
  },
  {
   "cell_type": "code",
   "execution_count": 9,
   "id": "b16b8353",
   "metadata": {},
   "outputs": [],
   "source": [
    "df['Amount'] = pd.to_numeric(df['Amount'], errors='coerce')"
   ]
  },
  {
   "cell_type": "code",
   "execution_count": 13,
   "id": "80612d81",
   "metadata": {},
   "outputs": [],
   "source": [
    "df['Scholarship Name'] = df['Scholarship Name'].astype('category')"
   ]
  },
  {
   "cell_type": "code",
   "execution_count": 12,
   "id": "a87a0316",
   "metadata": {},
   "outputs": [],
   "source": [
    "df['Deadline'] = pd.to_datetime(df['Deadline'], errors='coerce')"
   ]
  },
  {
   "cell_type": "markdown",
   "id": "49890d25",
   "metadata": {},
   "source": [
    "Verify the Changes"
   ]
  },
  {
   "cell_type": "code",
   "execution_count": null,
   "id": "e666fc97",
   "metadata": {},
   "outputs": [
    {
     "name": "stdout",
     "output_type": "stream",
     "text": [
      "Scholarship Name            object\n",
      "Deadline            datetime64[ns]\n",
      "Amount                      object\n",
      "Description                 object\n",
      "Location                    object\n",
      "Years                       object\n",
      "Link                        object\n",
      "dtype: object\n"
     ]
    },
    {
     "name": "stderr",
     "output_type": "stream",
     "text": [
      "C:\\Users\\Rohit Kumar\\AppData\\Local\\Temp\\ipykernel_1620\\1124514769.py:1: UserWarning: Could not infer format, so each element will be parsed individually, falling back to `dateutil`. To ensure parsing is consistent and as-expected, please specify a format.\n",
      "  df['Deadline'] = pd.to_datetime(df['Deadline'], errors='coerce')\n"
     ]
    }
   ],
   "source": [
    "df['Deadline'] = pd.to_datetime(df['Deadline'], errors='coerce')\n",
    "\n",
    "print(df.dtypes)   # * It only changes for temp"
   ]
  },
  {
   "cell_type": "code",
   "execution_count": 19,
   "id": "a7a14028",
   "metadata": {},
   "outputs": [
    {
     "name": "stdout",
     "output_type": "stream",
     "text": [
      "App                object\n",
      "Category           object\n",
      "Rating            float64\n",
      "Reviews            object\n",
      "Size               object\n",
      "Installs           object\n",
      "Type               object\n",
      "Price              object\n",
      "Content Rating     object\n",
      "Genres             object\n",
      "Last Updated       object\n",
      "Current Ver        object\n",
      "Android Ver        object\n",
      "dtype: object\n",
      "App                object\n",
      "Category           object\n",
      "Rating            float64\n",
      "Reviews            object\n",
      "Size               object\n",
      "Installs          float64\n",
      "Type               object\n",
      "Price              object\n",
      "Content Rating     object\n",
      "Genres             object\n",
      "Last Updated       object\n",
      "Current Ver        object\n",
      "Android Ver        object\n",
      "dtype: object\n"
     ]
    }
   ],
   "source": [
    "import pandas as pd\n",
    "\n",
    "# Load the dataset\n",
    "df = pd.read_csv(\"google_playstore.csv\")\n",
    "\n",
    "# Check the data types\n",
    "print(df.dtypes)\n",
    "\n",
    "# Convert the 'Installs' column to numeric, ignoring any non-numeric characters\n",
    "df['Installs'] = pd.to_numeric(df['Installs'].str.replace(',', '').str.replace('+', ''), errors='coerce')\n",
    "\n",
    "# Verify the change\n",
    "print(df.dtypes)"
   ]
  }
 ],
 "metadata": {
  "kernelspec": {
   "display_name": "Python 3",
   "language": "python",
   "name": "python3"
  },
  "language_info": {
   "codemirror_mode": {
    "name": "ipython",
    "version": 3
   },
   "file_extension": ".py",
   "mimetype": "text/x-python",
   "name": "python",
   "nbconvert_exporter": "python",
   "pygments_lexer": "ipython3",
   "version": "3.14.0"
  }
 },
 "nbformat": 4,
 "nbformat_minor": 5
}
