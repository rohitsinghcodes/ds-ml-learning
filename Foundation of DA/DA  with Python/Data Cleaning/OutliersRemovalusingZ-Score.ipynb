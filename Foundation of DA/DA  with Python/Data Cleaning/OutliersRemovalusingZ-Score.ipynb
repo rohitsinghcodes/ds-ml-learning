{
 "cells": [
  {
   "cell_type": "markdown",
   "id": "39eb0d98",
   "metadata": {},
   "source": [
    " Visualizing the Data Distribution"
   ]
  },
  {
   "cell_type": "code",
   "execution_count": null,
   "id": "09fde994",
   "metadata": {},
   "outputs": [],
   "source": [
    "import pandas as pd\n",
    "import seaborn as sns\n",
    "import numpy as np\n",
    "from matplotlib import pyplot as plt\n",
    "\n",
    "# Load the dataset\n",
    "data = pd.read_csv(\"scholarship.csv\")\n",
    "\n",
    "# Visualize the distribution\n",
    "# plt.subplot(1,2,1)\n",
    "sns.displot(data[\"Amount\"])\n",
    "# plt.show()"
   ]
  },
  {
   "cell_type": "markdown",
   "id": "e0a1531a",
   "metadata": {},
   "source": [
    "Calculate Key Statistics"
   ]
  },
  {
   "cell_type": "code",
   "execution_count": null,
   "id": "881b5031",
   "metadata": {},
   "outputs": [],
   "source": [
    "data[\"Amount\"] = pd.to_numeric(data[\"Amount\"], errors=\"coerce\")  # * You have to convert it into numeric for find mean, std, max, min\n",
    "\n",
    "print(\"Mean = \", data[\"Amount\"].mean())\n",
    "print(\"Std = \", data[\"Amount\"].std())\n",
    "print(\"Max = \", data[\"Amount\"].max())\n",
    "print(\"Min = \", data[\"Amount\"].min())"
   ]
  },
  {
   "cell_type": "markdown",
   "id": "e3923a31",
   "metadata": {},
   "source": [
    "Define the Boundaries for Outlier Detection"
   ]
  },
  {
   "cell_type": "code",
   "execution_count": null,
   "id": "40e12e91",
   "metadata": {},
   "outputs": [],
   "source": [
    "# Calculate the boundary values\n",
    "highest_allowed = data[\"Amount\"].mean() + data[\"Amount\"].std()\n",
    "lowest_allowed = data[\"Amount\"].mean() - data[\"Amount\"].std()\n",
    "\n",
    "print(\"Highest allowed = \", highest_allowed)\n",
    "print(\"Lowest allowed = \", lowest_allowed)"
   ]
  },
  {
   "cell_type": "markdown",
   "id": "6d70ef5d",
   "metadata": {},
   "source": [
    "Identifying Outliers"
   ]
  },
  {
   "cell_type": "code",
   "execution_count": null,
   "id": "faf8aaa2",
   "metadata": {},
   "outputs": [],
   "source": [
    "# Find outliers based on boundary values\n",
    "outliers = data[(data[\"Amount\"] < lowest_allowed) | (data[\"Amount\"] > highest_allowed)]\n",
    "print(outliers)"
   ]
  },
  {
   "cell_type": "markdown",
   "id": "bb18c6cd",
   "metadata": {},
   "source": [
    "Removing Outliers (Trimming)"
   ]
  },
  {
   "cell_type": "code",
   "execution_count": null,
   "id": "d14a1b86",
   "metadata": {},
   "outputs": [],
   "source": [
    "# Trimming the data\n",
    "trimmed_data = data[(data[\"Amount\"] > lowest_allowed) & (data[\"Amount\"] < highest_allowed)]\n",
    "print(trimmed_data)"
   ]
  },
  {
   "cell_type": "markdown",
   "id": "a413b5bb",
   "metadata": {},
   "source": [
    "Using Z-Score to Identify Outliers"
   ]
  },
  {
   "cell_type": "code",
   "execution_count": null,
   "id": "b8818adb",
   "metadata": {},
   "outputs": [],
   "source": [
    "# Calculate Z-score for Amount\n",
    "data[\"z_score\"] = (data[\"Amount\"] - data[\"Amount\"].mean()) / data[\"Amount\"].std()\n",
    "\n",
    "# Identify outliers with Z-score > 1 or Z-score < -1\n",
    "outliers_z_score = data[data[\"z_score\"] < -1]\n",
    "print(outliers_z_score)\n",
    "\n",
    "outliers_z_score_high = data[data[\"z_score\"] > 1]\n",
    "print(outliers_z_score_high)"
   ]
  },
  {
   "cell_type": "markdown",
   "id": "576abc4e",
   "metadata": {},
   "source": [
    "Filtering Data Based on Z-Score"
   ]
  },
  {
   "cell_type": "code",
   "execution_count": null,
   "id": "f40fb425",
   "metadata": {},
   "outputs": [],
   "source": [
    "# Filter data based on Z-score\n",
    "filtered_data = data[(data[\"z_score\"] > -1) & (data[\"z_score\"] < 1)]\n",
    "print(filtered_data)"
   ]
  },
  {
   "cell_type": "markdown",
   "id": "1697fb0a",
   "metadata": {},
   "source": [
    "Capping Outliers"
   ]
  },
  {
   "cell_type": "code",
   "execution_count": null,
   "id": "1069b531",
   "metadata": {},
   "outputs": [],
   "source": [
    "# Capping the outliers\n",
    "upper_limit = data[\"Amount\"].mean() +  data[\"Amount\"].std()\n",
    "lower_limit = data[\"Amount\"].mean() -  data[\"Amount\"].std()\n",
    "\n",
    "data[\"Amount\"] = np.where(data[\"Amount\"] > upper_limit, upper_limit, \n",
    "                                        np.where(data[\"Amount\"] < lower_limit, lower_limit, data[\"Amount\"]))"
   ]
  }
 ],
 "metadata": {
  "kernelspec": {
   "display_name": "Python 3",
   "language": "python",
   "name": "python3"
  },
  "language_info": {
   "codemirror_mode": {
    "name": "ipython",
    "version": 3
   },
   "file_extension": ".py",
   "mimetype": "text/x-python",
   "name": "python",
   "nbconvert_exporter": "python",
   "pygments_lexer": "ipython3",
   "version": "3.14.0"
  }
 },
 "nbformat": 4,
 "nbformat_minor": 5
}
