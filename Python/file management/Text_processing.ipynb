{
 "cells": [
  {
   "cell_type": "code",
   "execution_count": 4,
   "id": "8daf575d",
   "metadata": {},
   "outputs": [],
   "source": [
    "fd = open('data.txt', 'a')\n",
    "fd.write('Hii, This is Rohit Singh.\\nI am learning Python.\\n')\n",
    "fd.close()"
   ]
  }
 ],
 "metadata": {
  "kernelspec": {
   "display_name": ".venv",
   "language": "python",
   "name": "python3"
  },
  "language_info": {
   "codemirror_mode": {
    "name": "ipython",
    "version": 3
   },
   "file_extension": ".py",
   "mimetype": "text/x-python",
   "name": "python",
   "nbconvert_exporter": "python",
   "pygments_lexer": "ipython3",
   "version": "3.13.5"
  }
 },
 "nbformat": 4,
 "nbformat_minor": 5
}
