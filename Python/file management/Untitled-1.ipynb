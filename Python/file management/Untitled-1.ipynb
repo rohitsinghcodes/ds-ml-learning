{
 "cells": [
  {
   "cell_type": "code",
   "execution_count": 2,
   "id": "50c503e2",
   "metadata": {},
   "outputs": [
    {
     "name": "stdout",
     "output_type": "stream",
     "text": [
      "Hello I am rohit Singh\n"
     ]
    }
   ],
   "source": [
    "fd = open('data.txt', 'r')\n",
    "text = fd.read()\n",
    "print(text)\n",
    "fd.close()"
   ]
  }
 ],
 "metadata": {
  "kernelspec": {
   "display_name": ".venv",
   "language": "python",
   "name": "python3"
  },
  "language_info": {
   "codemirror_mode": {
    "name": "ipython",
    "version": 3
   },
   "file_extension": ".py",
   "mimetype": "text/x-python",
   "name": "python",
   "nbconvert_exporter": "python",
   "pygments_lexer": "ipython3",
   "version": "3.13.5"
  }
 },
 "nbformat": 4,
 "nbformat_minor": 5
}
