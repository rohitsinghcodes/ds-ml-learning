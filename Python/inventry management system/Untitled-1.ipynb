{
 "cells": [
  {
   "cell_type": "code",
   "execution_count": null,
   "id": "d6fd0f2d",
   "metadata": {},
   "outputs": [
    {
     "ename": "",
     "evalue": "",
     "output_type": "error",
     "traceback": [
      "\u001b[1;31mRunning cells with 'Python 3.13.5' requires the ipykernel package.\n",
      "\u001b[1;31m<a href='command:jupyter.createPythonEnvAndSelectController'>Create a Python Environment</a> with the required packages.\n",
      "\u001b[1;31mOr install 'ipykernel' using the command: '\"c:/Users/Rohit Kumar/AppData/Local/Microsoft/WindowsApps/python3.13.exe\" -m pip install ipykernel -U --user --force-reinstall'"
     ]
    }
   ],
   "source": [
    "fd = open('Inventory.txt', 'r')\n",
    "products = fd.read().split('\\n')\n",
    "fd.close()\n",
    "\n",
    "ui_prod_qn = input(\"Enter product ID: \")\n",
    "ui_prod_qn = input(\"Enter product Quantity: \")\n",
    "\n",
    "updated_product_lst = []\n",
    "\n",
    "for product in products:\n",
    "    prod_details = product.split(',')\n",
    "    if(prod_details[0] == ui_prod_qn):\n",
    "        if(int(ui_prod_qn) <= int(prod_details[3])):\n",
    "            \n",
    "            print('-'*30)\n",
    "            print(\"Product Name      : \", prod_details[1])\n",
    "            print(\"Product Price     : \", prod_details[2])\n",
    "            print(\"Product Quantity  : \", ui_prod_qn)\n",
    "            print('-'*30)\n",
    "            print('Billing Amount    : ', int(ui_prod_qn) * int(prod_details[2]))\n",
    "            \n",
    "            prod_details[3] = str(int(prod_details[3]) - int(ui_prod_qn))\n",
    "    updated_product_lst.append(prod_details)\n",
    "    \n",
    "lst = []\n",
    "\n",
    "for i in updated_product_lst:\n",
    "    prod = i[0] + ',' + i[1] + ',' + i[2] + ',' + i[3] + '\\n'\n",
    "    lst.append(prod)\n",
    "    \n",
    "lst[-1] = lst[-1][:-1]\n",
    "fd = open('Inventory.txt', 'w')\n",
    "\n",
    "for i in lst:\n",
    "    fd.write(i)\n",
    "\n",
    "fd.close()\n",
    "\n"
   ]
  }
 ],
 "metadata": {
  "kernelspec": {
   "display_name": "Python 3",
   "language": "python",
   "name": "python3"
  },
  "language_info": {
   "name": "python",
   "version": "3.13.5"
  }
 },
 "nbformat": 4,
 "nbformat_minor": 5
}
